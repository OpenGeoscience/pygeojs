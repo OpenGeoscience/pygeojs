{
 "cells": [
  {
   "cell_type": "markdown",
   "metadata": {},
   "source": [
    "# Quad image feature example\n",
    "\n",
    "Displaying images on quad features should be used sparingly, because the image data is first loaded into the kernel, then base64 encoded, and then sent to the browser. It is recommended to only use quad features with image files less than 1 MB.\n",
    "\n",
    "Note that the 'image' passed to the feature's data item must be a base64 encoded string.\n",
    "\n",
    "* Use the ```pygeojs.util.img2base64()``` method to load the image file and convert to base64, and set the quad feature image.data to the base64 string.\n",
    "* Do **not** set a quad feature's data.image to a local filename, because browser security will prevent it from loading into the display.\n",
    "* You can *try* setting a quad feature data.image to an online url, but CORS and/or other browser-security restrictions generally block the display.\n"
   ]
  },
  {
   "cell_type": "markdown",
   "metadata": {},
   "source": [
    "## 1. Create scene and feature layer"
   ]
  },
  {
   "cell_type": "code",
   "execution_count": null,
   "metadata": {},
   "outputs": [],
   "source": [
    "from IPython.display import display\n",
    "import pygeojs\n",
    "\n",
    "scene = pygeojs.scene()\n",
    "osm_layer = scene.createLayer('osm')\n",
    "scene.center = {'x': -73.757400, 'y': 42.849560}  # (21 Corp Drive)\n",
    "scene.zoom = 7\n",
    "\n",
    "feature_layer = scene.createLayer('feature')"
   ]
  },
  {
   "cell_type": "markdown",
   "metadata": {},
   "source": [
    "## 2. Create quad feature with image (png file)\n",
    "\n",
    "Note that we must load the image and base64 encode its content. The pygeojs library provides a ```util.img2base64()``` function to construct base64 string.\n"
   ]
  },
  {
   "cell_type": "code",
   "execution_count": null,
   "metadata": {},
   "outputs": [],
   "source": [
    "feature_layer.clear()\n",
    "\n",
    "image_data = pygeojs.util.img2base64('simplergb.png')\n",
    "\n",
    "# Download alternative:\n",
    "# url = 'https://data.kitware.com/api/v1/file/5caeb16c8d777f072b1ec7e9/download/rgb.png'\n",
    "# image_data = pygeojs.util.img2base64(url)\n",
    "\n",
    "# Copy metadata from gaia's simplergb.tif\n",
    "quad_meta = {'bounds': {'coordinates': [[\n",
    "    [-73.758345, 42.849604],\n",
    "    [-72.758345, 42.849604],\n",
    "    [-72.758345, 43.849604],\n",
    "    [-73.758345, 43.849604]]]},\n",
    "    'width': 160,\n",
    "    'height': 100}\n",
    "quad_bounds = quad_meta['bounds']['coordinates'][0]\n",
    "quad_feature = feature_layer.createFeature('quad', arg={'cacheQuads': False})\n",
    "quad_feature.data = [\n",
    "    {\n",
    "        'lr': quad_bounds[1],\n",
    "        'ul': quad_bounds[3],\n",
    "        'image': image_data\n",
    "    }]\n",
    "quad_feature.opacity = 0.5\n",
    "display(scene)"
   ]
  },
  {
   "cell_type": "markdown",
   "metadata": {},
   "source": [
    "## 3. Change the feature opacity and redraw"
   ]
  },
  {
   "cell_type": "code",
   "execution_count": null,
   "metadata": {},
   "outputs": [],
   "source": [
    "quad_feature.opacity = 0.2\n",
    "scene.draw()\n"
   ]
  }
 ],
 "metadata": {
  "kernelspec": {
   "display_name": "Python 3",
   "language": "python",
   "name": "python3"
  },
  "language_info": {
   "codemirror_mode": {
    "name": "ipython",
    "version": 3
   },
   "file_extension": ".py",
   "mimetype": "text/x-python",
   "name": "python",
   "nbconvert_exporter": "python",
   "pygments_lexer": "ipython3",
   "version": "3.5.2"
  }
 },
 "nbformat": 4,
 "nbformat_minor": 2
}
