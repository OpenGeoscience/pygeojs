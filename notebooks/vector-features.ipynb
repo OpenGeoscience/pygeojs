{
 "cells": [
  {
   "cell_type": "code",
   "execution_count": 1,
   "metadata": {},
   "outputs": [],
   "source": [
    "import json    # for formatting query string for large-image sytle\n",
    "import urllib  # ditto\n",
    "from IPython.display import display\n",
    "import pygeojs\n",
    "\n",
    "scene = pygeojs.scene()\n",
    "osm_layer = scene.createLayer('osm')\n",
    "#scene.center = {'x': -73.757400, 'y': 42.849560}  # (21 Corp Drive)\n",
    "#scene.zoom = 7"
   ]
  },
  {
   "cell_type": "code",
   "execution_count": 2,
   "metadata": {},
   "outputs": [],
   "source": [
    "feature_layer = scene.createLayer('feature')\n"
   ]
  },
  {
   "cell_type": "code",
   "execution_count": 3,
   "metadata": {},
   "outputs": [],
   "source": [
    "cities = [\n",
    "  {'lon': -74.0059413, 'lat': 40.7127837, 'name': \"New York\", 'population': 8405837},\n",
    "  {'lon': -118.2436849, 'lat': 34.0522342, 'name': \"Los Angeles\", 'population': 3884307},\n",
    "  {'lon': -87.6297982, 'lat': 41.8781136, 'name': \"Chicago\", 'population': 2718782},\n",
    "  {'lon': -95.3698028, 'lat': 29.7604267, 'name': \"Houston\", 'population': 2195914},\n",
    "  {'lon': -75.1652215, 'lat': 39.9525839, 'name': \"Philadelphia\", 'population': 1553165},\n",
    "  {'lon': -112.0740373, 'lat': 33.4483771, 'name': \"Phoenix\", 'population': 1513367}\n",
    "]\n",
    "position = [{'x': city['lon'], 'y': city['lat']} for city in cities]\n",
    "\n",
    "point_feature = feature_layer.createFeature('point', data=cities, position=position)"
   ]
  },
  {
   "cell_type": "code",
   "execution_count": 6,
   "metadata": {},
   "outputs": [
    {
     "data": {
      "application/vnd.jupyter.widget-view+json": {
       "model_id": "27122d2d82d342c0941a832836ff0b96",
       "version_major": 2,
       "version_minor": 0
      },
      "text/plain": [
       "scene(center={'x': -97.67, 'y': 31.8}, layout=Layout(align_self='stretch', height='400px'))"
      ]
     },
     "metadata": {},
     "output_type": "display_data"
    }
   ],
   "source": [
    "scene.center = { 'x': -97.67, 'y': 31.80 }\n",
    "scene.zoom = 4\n",
    "display(scene)"
   ]
  },
  {
   "cell_type": "code",
   "execution_count": 4,
   "metadata": {},
   "outputs": [],
   "source": [
    "# Polygon from Phila - Houston - LA\n",
    "poly_data = [[{'x': -75, 'y': 40}, {'x': -95, 'y': 28}, {'x': -118, 'y': 34}]]\n",
    "polygon  = feature_layer.createFeature('polygon', data=poly_data)\n",
    "scene.draw()"
   ]
  },
  {
   "cell_type": "code",
   "execution_count": 5,
   "metadata": {},
   "outputs": [],
   "source": [
    "# Line from LA - Chicago - NY\n",
    "line_data = [[{'x': -118, 'y': 34}, {'x': -88, 'y': 42}, {'x': -74, 'y': 41}]]\n",
    "polygon  = feature_layer.createFeature('line', data=line_data)\n",
    "scene.draw()"
   ]
  },
  {
   "cell_type": "code",
   "execution_count": null,
   "metadata": {},
   "outputs": [],
   "source": []
  }
 ],
 "metadata": {
  "kernelspec": {
   "display_name": "Python 3",
   "language": "python",
   "name": "python3"
  },
  "language_info": {
   "codemirror_mode": {
    "name": "ipython",
    "version": 3
   },
   "file_extension": ".py",
   "mimetype": "text/x-python",
   "name": "python",
   "nbconvert_exporter": "python",
   "pygments_lexer": "ipython3",
   "version": "3.5.2"
  }
 },
 "nbformat": 4,
 "nbformat_minor": 2
}
