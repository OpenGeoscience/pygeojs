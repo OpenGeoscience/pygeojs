{
 "cells": [
  {
   "cell_type": "markdown",
   "metadata": {},
   "source": [
    "# Girder large-image example\n",
    "\n",
    "This shows how to configure pygeojs to display a geo-registered image hosted on a Girder server running the large-image plugin.\n",
    "\n",
    "Note that pygeojs provides a util function to construct the tiles url from the girder url and item id.\n"
   ]
  },
  {
   "cell_type": "code",
   "execution_count": null,
   "metadata": {},
   "outputs": [],
   "source": [
    "# Initialize a scene and map layer\n",
    "\n",
    "from IPython.display import display\n",
    "import pygeojs\n",
    "\n",
    "scene = pygeojs.scene()\n",
    "osm_layer = scene.createLayer('osm')\n",
    "scene.center = {'x': -122.4194, 'y': 37.7449}  # San Francisco 37.7749° N, 122.4194° W\n",
    "scene.zoom = 7\n"
   ]
  },
  {
   "cell_type": "code",
   "execution_count": null,
   "metadata": {},
   "outputs": [],
   "source": [
    "# Initialize second osm layer to display tiled image\n",
    "\n",
    "# The girder host and item id are specific to the girder instance.\n",
    "# This example does not authenticate with Girder, so the image must be in a public folder.\n",
    "\n",
    "girder_url = 'http://localhost:8989'\n",
    "item_id = '5c9fa550d2bef90006118224'  # SFBay_grayscale.tif\n",
    "tiles_url = pygeojs.util.get_tiles_url(girder_url, item_id)\n",
    "\n",
    "opacity = 0.5\n",
    "tile_layer = scene.createLayer('osm', url=tiles_url, keepLower=False, opacity=opacity)\n",
    "\n",
    "display(scene)"
   ]
  },
  {
   "cell_type": "code",
   "execution_count": null,
   "metadata": {},
   "outputs": [],
   "source": [
    "import ipywidgets as widgets\n",
    "z = widgets.FloatSlider(min=1, max=16, value=scene.zoom, layout=dict(width='95%'))\n",
    "newlink = widgets.jslink((z, 'value'), (scene, 'zoom'))\n",
    "display(z)"
   ]
  },
  {
   "cell_type": "code",
   "execution_count": null,
   "metadata": {},
   "outputs": [],
   "source": [
    "# Create new scene with tile image with mapnik style\n",
    "scene2 = pygeojs.scene()\n",
    "osm_layer2 = scene2.createLayer('osm')\n",
    "scene2.center = {'x': -122.4194, 'y': 37.7449}  # San Francisco 37.7749° N, 122.4194° W\n",
    "scene2.zoom = 7\n",
    "\n",
    "mapnik_style = {\n",
    "    'band': 1,\n",
    "    'max': 256,\n",
    "    'min': 0,\n",
    "    'palette': 'matplotlib.Plasma_6',\n",
    "    'scheme': 'linear',\n",
    "}\n",
    "opacity2 = 0.9\n",
    "tiles_url2 = pygeojs.util.get_tiles_url(girder_url, item_id, mapnik_style=mapnik_style)\n",
    "tile_layer2 = scene2.createLayer('osm', url=tiles_url2, keepLower=False, opacity=opacity2)\n",
    "\n",
    "display(scene2)"
   ]
  },
  {
   "cell_type": "code",
   "execution_count": null,
   "metadata": {},
   "outputs": [],
   "source": [
    "import ipywidgets as widgets\n",
    "z2 = widgets.FloatSlider(min=1, max=16, value=scene2.zoom, layout=dict(width='95%'))\n",
    "newlink2 = widgets.jslink((z2, 'value'), (scene2, 'zoom'))\n",
    "display(z2)"
   ]
  }
 ],
 "metadata": {
  "kernelspec": {
   "display_name": "Python 3",
   "language": "python",
   "name": "python3"
  },
  "language_info": {
   "codemirror_mode": {
    "name": "ipython",
    "version": 3
   },
   "file_extension": ".py",
   "mimetype": "text/x-python",
   "name": "python",
   "nbconvert_exporter": "python",
   "pygments_lexer": "ipython3",
   "version": "3.5.2"
  }
 },
 "nbformat": 4,
 "nbformat_minor": 2
}
