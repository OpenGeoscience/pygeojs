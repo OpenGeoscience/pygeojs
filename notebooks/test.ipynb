{
 "cells": [
  {
   "cell_type": "code",
   "execution_count": 1,
   "metadata": {},
   "outputs": [],
   "source": [
    "import json\n",
    "import urllib\n",
    "from IPython.display import display\n",
    "import pygeojs\n",
    "\n",
    "scene = pygeojs.scene()\n",
    "osm_layer = scene.createLayer('osm')\n",
    "#scene.center = {'x': -73.757400, 'y': 42.849560}  # (21 Corp Drive)\n",
    "scene.zoom = 7"
   ]
  },
  {
   "cell_type": "code",
   "execution_count": 2,
   "metadata": {},
   "outputs": [
    {
     "name": "stdout",
     "output_type": "stream",
     "text": [
      "http://turtleland2:8989/api/v1/item/5bb7d7533b4e9a0007762163/tiles/zxy/{z}/{x}/{y}?encoding=PNG&projection=EPSG:3857&style=%7B%22max%22%3A+5000%2C+%22scheme%22%3A+%22linear%22%2C+%22band%22%3A+1%2C+%22palette%22%3A+%22matplotlib.Plasma_6%22%2C+%22min%22%3A+2000%7D\n"
     ]
    },
    {
     "data": {
      "application/vnd.jupyter.widget-view+json": {
       "model_id": "e7e5806555c441eb8e6e7cf06bcc06e4",
       "version_major": 2,
       "version_minor": 0
      },
      "text/plain": [
       "scene(center={'y': 39.0, 'x': -107.0}, layout=Layout(align_self='stretch', height='400px'), zoom=9.0)"
      ]
     },
     "metadata": {},
     "output_type": "display_data"
    }
   ],
   "source": [
    "# Test large image\n",
    "url_template = 'http://turtleland2:8989/api/v1/item/{item_id}/tiles/zxy/{{z}}/{{x}}/{{y}}?encoding=PNG&projection=EPSG:3857'\n",
    "\n",
    "scene.center = {'x': -107.0, 'y': 39.0}  # (Crested Butte, CO)\n",
    "scene.zoom = 9\n",
    "\n",
    "lidar_id = '5bb7d7533b4e9a0007762163'\n",
    "lidar_url = url_template.format(item_id=lidar_id)\n",
    "\n",
    "style = {\n",
    "    'band': 1,\n",
    "    'max': 5000,\n",
    "    'min': 2000,\n",
    "    'palette': 'matplotlib.Plasma_6',\n",
    "    'scheme': 'linear'\n",
    "}\n",
    "style_string = json.dumps(style)\n",
    "style_encoded = urllib.parse.quote_plus(style_string)\n",
    "lidar_url = '{}&style={}'.format(lidar_url, style_encoded)\n",
    "\n",
    "print(lidar_url)\n",
    "lidar_layer = scene.createLayer('osm', url=lidar_url, keepLower=False, opacity=0.2)\n",
    "display(scene)\n"
   ]
  },
  {
   "cell_type": "code",
   "execution_count": 3,
   "metadata": {},
   "outputs": [
    {
     "data": {
      "application/vnd.jupyter.widget-view+json": {
       "model_id": "538c4aee92624869a5df25a42fdb1768",
       "version_major": 2,
       "version_minor": 0
      },
      "text/plain": [
       "FloatSlider(value=8.0, layout=Layout(width='95%'), max=12.0, min=1.0)"
      ]
     },
     "metadata": {},
     "output_type": "display_data"
    }
   ],
   "source": [
    "import ipywidgets as widgets\n",
    "z = widgets.FloatSlider(min=1, max=12, value=8, layout=dict(width='95%'))\n",
    "newlink = widgets.jslink((z, 'value'), (scene, 'zoom'))\n",
    "display(z)"
   ]
  },
  {
   "cell_type": "code",
   "execution_count": 4,
   "metadata": {},
   "outputs": [
    {
     "name": "stdout",
     "output_type": "stream",
     "text": [
      "http://turtleland2:8989/api/v1/item/5bb7d7543b4e9a000776216c/tiles/zxy/{z}/{x}/{y}?encoding=PNG&projection=EPSG:3857\n"
     ]
    }
   ],
   "source": [
    "# Test large-image (color)\n",
    "#scene.center = {'x': -122.4, 'y': 37.8}  # (San Francisco)\n",
    "\n",
    "sf_id = '5bb7d7543b4e9a000776216c'  # San Francisco bay image\n",
    "sf_url = url_template.format(item_id=sf_id)\n",
    "print(sf_url)\n",
    "sf_layer = scene.createLayer('osm', url=sf_url, keepLower=False)\n",
    "#display(scene)"
   ]
  }
 ],
 "metadata": {
  "kernelspec": {
   "display_name": "Python 3",
   "language": "python",
   "name": "python3"
  },
  "language_info": {
   "codemirror_mode": {
    "name": "ipython",
    "version": 3
   },
   "file_extension": ".py",
   "mimetype": "text/x-python",
   "name": "python",
   "nbconvert_exporter": "python",
   "pygments_lexer": "ipython3",
   "version": "3.5.2"
  }
 },
 "nbformat": 4,
 "nbformat_minor": 2
}
