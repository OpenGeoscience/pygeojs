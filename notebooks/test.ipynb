{
 "cells": [
  {
   "cell_type": "code",
   "execution_count": 1,
   "metadata": {},
   "outputs": [],
   "source": [
    "import json    # for formatting query string for large-image sytle\n",
    "import urllib  # ditto\n",
    "from IPython.display import display\n",
    "import pygeojs\n",
    "\n",
    "scene = pygeojs.scene()\n",
    "osm_layer = scene.createLayer('osm')\n",
    "#scene.center = {'x': -73.757400, 'y': 42.849560}  # (21 Corp Drive)\n",
    "#scene.zoom = 7"
   ]
  },
  {
   "cell_type": "code",
   "execution_count": 2,
   "metadata": {},
   "outputs": [],
   "source": [
    "feature_layer = scene.createLayer('feature')\n"
   ]
  },
  {
   "cell_type": "code",
   "execution_count": 3,
   "metadata": {},
   "outputs": [],
   "source": [
    "# Test point features\n",
    "\n",
    "cities = [\n",
    "  {'lon': -74.0059413, 'lat': 40.7127837, 'name': \"New York\", 'population': 8405837},\n",
    "  {'lon': -118.2436849, 'lat': 34.0522342, 'name': \"Los Angeles\", 'population': 3884307},\n",
    "  {'lon': -87.6297982, 'lat': 41.8781136, 'name': \"Chicago\", 'population': 2718782},\n",
    "  {'lon': -95.3698028, 'lat': 29.7604267, 'name': \"Houston\", 'population': 2195914},\n",
    "  {'lon': -75.1652215, 'lat': 39.9525839, 'name': \"Philadelphia\", 'population': 1553165},\n",
    "  {'lon': -112.0740373, 'lat': 33.4483771, 'name': \"Phoenix\", 'population': 1513367}\n",
    "]\n",
    "position = [{'x': city['lon'], 'y': city['lat']} for city in cities]\n",
    "\n",
    "point_feature = feature_layer.createFeature('point', data=cities, position=position)"
   ]
  },
  {
   "cell_type": "code",
   "execution_count": 4,
   "metadata": {},
   "outputs": [
    {
     "data": {
      "application/vnd.jupyter.widget-view+json": {
       "model_id": "0fd4ea23531641f7a3d60dee03f10a69",
       "version_major": 2,
       "version_minor": 0
      },
      "text/plain": [
       "scene(center={'x': -97.67, 'y': 31.8}, layout=Layout(align_self='stretch', height='400px'))"
      ]
     },
     "metadata": {},
     "output_type": "display_data"
    }
   ],
   "source": [
    "scene.center = { 'x': -97.67, 'y': 31.80 }\n",
    "scene.zoom = 4\n",
    "display(scene)"
   ]
  },
  {
   "cell_type": "code",
   "execution_count": 10,
   "metadata": {},
   "outputs": [
    {
     "name": "stdout",
     "output_type": "stream",
     "text": [
      "pointFeature(data=[{'lon': -74.0059413, 'lat': 40.7127837, 'population': 8405837, 'name': 'New York'}, {'lon': -118.2436849, 'lat': 34.0522342, 'population': 3884307, 'name': 'Los Angeles'}, {'lon': -87.6297982, 'lat': 41.8781136, 'population': 2718782, 'name': 'Chicago'}, {'lon': -95.3698028, 'lat': 29.7604267, 'population': 2195914, 'name': 'Houston'}, {'lon': -75.1652215, 'lat': 39.9525839, 'population': 1553165, 'name': 'Philadelphia'}, {'lon': -112.0740373, 'lat': 33.4483771, 'population': 1513367, 'name': 'Phoenix'}], featureType='point', layer_id='376c4a1527704f889b7bb702b098d7b6', position=[{'x': -74.0059413, 'y': 40.7127837}, {'x': -118.2436849, 'y': 34.0522342}, {'x': -87.6297982, 'y': 41.8781136}, {'x': -95.3698028, 'y': 29.7604267}, {'x': -75.1652215, 'y': 39.9525839}, {'x': -112.0740373, 'y': 33.4483771}])\n"
     ]
    }
   ],
   "source": [
    "print(point_feature)\n",
    "# print(point_feature.style)"
   ]
  },
  {
   "cell_type": "code",
   "execution_count": 6,
   "metadata": {},
   "outputs": [],
   "source": [
    "# Set viewpoint to match overall bounds\n",
    "xvals = [coord['x'] for coord in position]\n",
    "yvals = [coord['y'] for coord in position]\n",
    "bounds = [min(xvals), min(yvals), max(xvals), max(yvals)]\n",
    "scene.send({'method': 'set_zoom_and_center', 'params': bounds})\n",
    "         "
   ]
  },
  {
   "cell_type": "code",
   "execution_count": 7,
   "metadata": {},
   "outputs": [],
   "source": [
    "# Add zoom slider\n",
    "import ipywidgets as widgets\n",
    "z = widgets.FloatSlider(min=1, max=12, value=scene.zoom, layout=dict(width='95%'))"
   ]
  },
  {
   "cell_type": "code",
   "execution_count": 8,
   "metadata": {},
   "outputs": [
    {
     "data": {
      "application/vnd.jupyter.widget-view+json": {
       "model_id": "ad608d09920c4056b338f64ee89caa48",
       "version_major": 2,
       "version_minor": 0
      },
      "text/plain": [
       "FloatSlider(value=4.728685, layout=Layout(width='95%'), max=12.0, min=1.0)"
      ]
     },
     "metadata": {},
     "output_type": "display_data"
    }
   ],
   "source": [
    "newlink = widgets.jslink((z, 'value'), (scene, 'zoom'))\n",
    "display(z)"
   ]
  },
  {
   "cell_type": "code",
   "execution_count": 3,
   "metadata": {},
   "outputs": [
    {
     "name": "stdout",
     "output_type": "stream",
     "text": [
      "http://turtleland2:8989/api/v1/item/5bca474261700e00077b2220/tiles/zxy/{z}/{x}/{y}?encoding=PNG&projection=EPSG:3857&style=%7B%22max%22%3A+5000%2C+%22band%22%3A+1%2C+%22min%22%3A+2000%2C+%22palette%22%3A+%22matplotlib.Plasma_6%22%2C+%22scheme%22%3A+%22linear%22%7D\n",
      "\n"
     ]
    }
   ],
   "source": [
    "# Test large image\n",
    "url_template = 'http://turtleland2:8989/api/v1/item/{item_id}/tiles/zxy/{{z}}/{{x}}/{{y}}?encoding=PNG&projection=EPSG:3857'\n",
    "\n",
    "scene.center = {'x': -107.0, 'y': 39.0}  # (Crested Butte, CO)\n",
    "scene.zoom = 9\n",
    "\n",
    "lidar_id = '5bca474261700e00077b2220'\n",
    "lidar_url = url_template.format(item_id=lidar_id)\n",
    "\n",
    "style = {\n",
    "    'band': 1,\n",
    "    'max': 5000,\n",
    "    'min': 2000,\n",
    "    'palette': 'matplotlib.Plasma_6',\n",
    "    'scheme': 'linear'\n",
    "}\n",
    "style_string = json.dumps(style)\n",
    "style_encoded = urllib.parse.quote_plus(style_string)\n",
    "lidar_url = '{}&style={}'.format(lidar_url, style_encoded)\n",
    "\n",
    "print(lidar_url)\n",
    "lidar_layer = scene.createLayer('osm', url=lidar_url, keepLower=False, opacity=0.2)\n",
    "#display(scene)\n",
    "print(lidar_layer.attribution)"
   ]
  },
  {
   "cell_type": "code",
   "execution_count": 4,
   "metadata": {},
   "outputs": [
    {
     "name": "stdout",
     "output_type": "stream",
     "text": [
      "http://turtleland2:8989/api/v1/item/5bca474461700e00077b2229/tiles/zxy/{z}/{x}/{y}?encoding=PNG&projection=EPSG:3857\n"
     ]
    }
   ],
   "source": [
    "# Test large-image (color)\n",
    "scene.center = {'x': -122.4, 'y': 37.8}  # (San Francisco)\n",
    "\n",
    "sf_id = '5bca474461700e00077b2229'  # San Francisco bay image\n",
    "sf_url = url_template.format(item_id=sf_id)\n",
    "print(sf_url)\n",
    "sf_layer = scene.createLayer('osm', url=sf_url, keepLower=False)\n",
    "#display(scene)"
   ]
  },
  {
   "cell_type": "code",
   "execution_count": 6,
   "metadata": {},
   "outputs": [],
   "source": [
    "scene.send({'a': 'A rat in Toms house...', 'b': '...may eat Toms ice cream'})"
   ]
  },
  {
   "cell_type": "code",
   "execution_count": null,
   "metadata": {},
   "outputs": [],
   "source": []
  }
 ],
 "metadata": {
  "kernelspec": {
   "display_name": "Python 3",
   "language": "python",
   "name": "python3"
  },
  "language_info": {
   "codemirror_mode": {
    "name": "ipython",
    "version": 3
   },
   "file_extension": ".py",
   "mimetype": "text/x-python",
   "name": "python",
   "nbconvert_exporter": "python",
   "pygments_lexer": "ipython3",
   "version": "3.5.2"
  }
 },
 "nbformat": 4,
 "nbformat_minor": 2
}
