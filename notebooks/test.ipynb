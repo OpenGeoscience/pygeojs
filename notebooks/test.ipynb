{
 "cells": [
  {
   "cell_type": "code",
   "execution_count": 1,
   "metadata": {},
   "outputs": [],
   "source": [
    "import json    # for formatting query string for large-image sytle\n",
    "import urllib  # ditto\n",
    "from IPython.display import display\n",
    "import pygeojs\n",
    "\n",
    "scene = pygeojs.scene()\n",
    "osm_layer = scene.createLayer('osm')\n",
    "#scene.center = {'x': -73.757400, 'y': 42.849560}  # (21 Corp Drive)\n",
    "scene.zoom = 7"
   ]
  },
  {
   "cell_type": "code",
   "execution_count": 2,
   "metadata": {},
   "outputs": [
    {
     "name": "stdout",
     "output_type": "stream",
     "text": [
      "http://turtleland2:8989/api/v1/item/5bca474261700e00077b2220/tiles/zxy/{z}/{x}/{y}?encoding=PNG&projection=EPSG:3857\n",
      "\n"
     ]
    }
   ],
   "source": [
    "# Test large image\n",
    "url_template = 'http://turtleland2:8989/api/v1/item/{item_id}/tiles/zxy/{{z}}/{{x}}/{{y}}?encoding=PNG&projection=EPSG:3857'\n",
    "\n",
    "scene.center = {'x': -107.0, 'y': 39.0}  # (Crested Butte, CO)\n",
    "scene.zoom = 9\n",
    "\n",
    "lidar_id = '5bca474261700e00077b2220'\n",
    "lidar_url = url_template.format(item_id=lidar_id)\n",
    "\n",
    "style = {\n",
    "    'band': 1,\n",
    "    'max': 5000,\n",
    "    'min': 2000,\n",
    "    'palette': 'matplotlib.Plasma_6',\n",
    "    'scheme': 'linear'\n",
    "}\n",
    "style_string = json.dumps(style)\n",
    "style_encoded = urllib.parse.quote_plus(style_string)\n",
    "#lidar_url = '{}&style={}'.format(lidar_url, style_encoded)\n",
    "\n",
    "print(lidar_url)\n",
    "lidar_layer = scene.createLayer('osm', url=lidar_url, keepLower=False)\n",
    "#display(scene)\n",
    "print(lidar_layer.attribution)"
   ]
  },
  {
   "cell_type": "code",
   "execution_count": 3,
   "metadata": {},
   "outputs": [
    {
     "data": {
      "application/vnd.jupyter.widget-view+json": {
       "model_id": "e8b0c67774bb4883a5396156a72e5df1",
       "version_major": 2,
       "version_minor": 0
      },
      "text/plain": [
       "scene(center={'z': 0.0, 'x': -107.0, 'y': 38.99999999999997}, layout=Layout(align_self='stretch', height='400p…"
      ]
     },
     "metadata": {},
     "output_type": "display_data"
    }
   ],
   "source": [
    "display(scene)"
   ]
  },
  {
   "cell_type": "code",
   "execution_count": 5,
   "metadata": {},
   "outputs": [
    {
     "name": "stdout",
     "output_type": "stream",
     "text": [
      "Tile data &copy; <a href=\"http://osm.org/copyright\">OpenStreetMap</a> contributors 1\n"
     ]
    }
   ],
   "source": [
    "print(osm_layer.attribution, lidar_layer.zIndex)"
   ]
  },
  {
   "cell_type": "code",
   "execution_count": 6,
   "metadata": {},
   "outputs": [],
   "source": [
    "#scene.send('A rat in Toms house')\n",
    "msg = {'a': 'A rat in Toms house...', 'b': '...may eat Toms ice cream'}\n",
    "scene.send(msg)"
   ]
  },
  {
   "cell_type": "code",
   "execution_count": 6,
   "metadata": {},
   "outputs": [],
   "source": [
    "#scene.on_msg('hell0?')\n",
    "#from pygeojs import scene as scene_module\n",
    "#scene_module._receive_message('anybody there?')\n",
    "#print(dir(scene_module))\n",
    "#scene._receive_message('anybody there?')"
   ]
  },
  {
   "cell_type": "code",
   "execution_count": 7,
   "metadata": {},
   "outputs": [
    {
     "data": {
      "application/vnd.jupyter.widget-view+json": {
       "model_id": "abd3191530834df48e657465823010b1",
       "version_major": 2,
       "version_minor": 0
      },
      "text/plain": [
       "FloatSlider(value=8.0, layout=Layout(width='95%'), max=12.0, min=1.0)"
      ]
     },
     "metadata": {},
     "output_type": "display_data"
    }
   ],
   "source": [
    "import ipywidgets as widgets\n",
    "z = widgets.FloatSlider(min=1, max=12, value=8, layout=dict(width='95%'))\n",
    "newlink = widgets.jslink((z, 'value'), (scene, 'zoom'))\n",
    "display(z)"
   ]
  },
  {
   "cell_type": "code",
   "execution_count": 4,
   "metadata": {},
   "outputs": [
    {
     "name": "stdout",
     "output_type": "stream",
     "text": [
      "http://turtleland2:8989/api/v1/item/5bca474461700e00077b2229/tiles/zxy/{z}/{x}/{y}?encoding=PNG&projection=EPSG:3857\n"
     ]
    }
   ],
   "source": [
    "# Test large-image (color)\n",
    "scene.center = {'x': -122.4, 'y': 37.8}  # (San Francisco)\n",
    "\n",
    "sf_id = '5bca474461700e00077b2229'  # San Francisco bay image\n",
    "sf_url = url_template.format(item_id=sf_id)\n",
    "print(sf_url)\n",
    "sf_layer = scene.createLayer('osm', url=sf_url, keepLower=False)\n",
    "#display(scene)"
   ]
  },
  {
   "cell_type": "code",
   "execution_count": null,
   "metadata": {},
   "outputs": [],
   "source": []
  }
 ],
 "metadata": {
  "kernelspec": {
   "display_name": "Python 3",
   "language": "python",
   "name": "python3"
  },
  "language_info": {
   "codemirror_mode": {
    "name": "ipython",
    "version": 3
   },
   "file_extension": ".py",
   "mimetype": "text/x-python",
   "name": "python",
   "nbconvert_exporter": "python",
   "pygments_lexer": "ipython3",
   "version": "3.5.2"
  }
 },
 "nbformat": 4,
 "nbformat_minor": 2
}
